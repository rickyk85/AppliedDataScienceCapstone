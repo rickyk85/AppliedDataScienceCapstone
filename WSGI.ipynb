{
    "cells": [
        {
            "metadata": {},
            "cell_type": "code",
            "source": "import sys\n\nproject_home = '/root/rkapoor'\nif project_home not in sys.path:\n    sys.path = [project_home] + sys.path\n\nfrom flask_app import app\napplication = app.server",
            "execution_count": null,
            "outputs": []
        },
        {
            "metadata": {},
            "cell_type": "code",
            "source": "",
            "execution_count": null,
            "outputs": []
        }
    ],
    "metadata": {
        "kernelspec": {
            "name": "python3",
            "display_name": "Python 3.8",
            "language": "python"
        },
        "language_info": {
            "name": "python",
            "version": "3.8.10",
            "mimetype": "text/x-python",
            "codemirror_mode": {
                "name": "ipython",
                "version": 3
            },
            "pygments_lexer": "ipython3",
            "nbconvert_exporter": "python",
            "file_extension": ".py"
        }
    },
    "nbformat": 4,
    "nbformat_minor": 1
}